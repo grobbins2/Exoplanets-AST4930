{
 "cells": [
  {
   "cell_type": "code",
   "execution_count": 2,
   "metadata": {
    "colab": {
     "base_uri": "https://localhost:8080/"
    },
    "id": "DtP0_c-L-_jt",
    "outputId": "13b6a2aa-27e1-44ae-9aa2-55a09c99bbba"
   },
   "outputs": [
    {
     "name": "stdout",
     "output_type": "stream",
     "text": [
      "Defaulting to user installation because normal site-packages is not writeable\n",
      "Requirement already satisfied: pytransit in /home/grobbins1/.local/lib/python3.10/site-packages (2.5.23)\n",
      "Requirement already satisfied: seaborn in /home/grobbins1/.local/lib/python3.10/site-packages (from pytransit) (0.12.2)\n",
      "Requirement already satisfied: numba in /home/grobbins1/.local/lib/python3.10/site-packages (from pytransit) (0.56.4)\n",
      "Requirement already satisfied: uncertainties in /home/grobbins1/.local/lib/python3.10/site-packages (from pytransit) (3.1.7)\n",
      "Requirement already satisfied: tables in /home/grobbins1/.local/lib/python3.10/site-packages (from pytransit) (3.8.0)\n",
      "Requirement already satisfied: scipy in /apps/jupyter/6.5.2/lib/python3.10/site-packages (from pytransit) (1.9.3)\n",
      "Requirement already satisfied: pandas in /apps/jupyter/6.5.2/lib/python3.10/site-packages (from pytransit) (1.5.2)\n",
      "Requirement already satisfied: semantic-version in /home/grobbins1/.local/lib/python3.10/site-packages (from pytransit) (2.10.0)\n",
      "Requirement already satisfied: deprecated in /home/grobbins1/.local/lib/python3.10/site-packages (from pytransit) (1.2.13)\n",
      "Requirement already satisfied: pyrr in /home/grobbins1/.local/lib/python3.10/site-packages (from pytransit) (0.10.3)\n",
      "Requirement already satisfied: xarray in /home/grobbins1/.local/lib/python3.10/site-packages (from pytransit) (2023.4.0)\n",
      "Requirement already satisfied: numpy in /apps/jupyter/6.5.2/lib/python3.10/site-packages (from pytransit) (1.23.5)\n",
      "Requirement already satisfied: wrapt<2,>=1.10 in /home/grobbins1/.local/lib/python3.10/site-packages (from deprecated->pytransit) (1.15.0)\n",
      "Requirement already satisfied: llvmlite<0.40,>=0.39.0dev0 in /home/grobbins1/.local/lib/python3.10/site-packages (from numba->pytransit) (0.39.1)\n",
      "Requirement already satisfied: setuptools in /apps/jupyter/6.5.2/lib/python3.10/site-packages (from numba->pytransit) (61.2.0)\n",
      "Requirement already satisfied: pytz>=2020.1 in /apps/jupyter/6.5.2/lib/python3.10/site-packages (from pandas->pytransit) (2022.1)\n",
      "Requirement already satisfied: python-dateutil>=2.8.1 in /apps/jupyter/6.5.2/lib/python3.10/site-packages (from pandas->pytransit) (2.8.2)\n",
      "Requirement already satisfied: multipledispatch in /home/grobbins1/.local/lib/python3.10/site-packages (from pyrr->pytransit) (0.6.0)\n",
      "Requirement already satisfied: matplotlib!=3.6.1,>=3.1 in /home/grobbins1/.local/lib/python3.10/site-packages (from seaborn->pytransit) (3.7.1)\n",
      "Requirement already satisfied: blosc2~=2.0.0 in /home/grobbins1/.local/lib/python3.10/site-packages (from tables->pytransit) (2.0.0)\n",
      "Requirement already satisfied: py-cpuinfo in /home/grobbins1/.local/lib/python3.10/site-packages (from tables->pytransit) (9.0.0)\n",
      "Requirement already satisfied: packaging in /apps/jupyter/6.5.2/lib/python3.10/site-packages (from tables->pytransit) (21.3)\n",
      "Requirement already satisfied: numexpr>=2.6.2 in /home/grobbins1/.local/lib/python3.10/site-packages (from tables->pytransit) (2.8.4)\n",
      "Requirement already satisfied: cython>=0.29.21 in /apps/jupyter/6.5.2/lib/python3.10/site-packages (from tables->pytransit) (0.29.32)\n",
      "Requirement already satisfied: future in /home/grobbins1/.local/lib/python3.10/site-packages (from uncertainties->pytransit) (0.18.3)\n",
      "Requirement already satisfied: msgpack in /home/grobbins1/.local/lib/python3.10/site-packages (from blosc2~=2.0.0->tables->pytransit) (1.0.5)\n",
      "Requirement already satisfied: fonttools>=4.22.0 in /home/grobbins1/.local/lib/python3.10/site-packages (from matplotlib!=3.6.1,>=3.1->seaborn->pytransit) (4.39.3)\n",
      "Requirement already satisfied: contourpy>=1.0.1 in /home/grobbins1/.local/lib/python3.10/site-packages (from matplotlib!=3.6.1,>=3.1->seaborn->pytransit) (1.0.7)\n",
      "Requirement already satisfied: kiwisolver>=1.0.1 in /home/grobbins1/.local/lib/python3.10/site-packages (from matplotlib!=3.6.1,>=3.1->seaborn->pytransit) (1.4.4)\n",
      "Requirement already satisfied: cycler>=0.10 in /home/grobbins1/.local/lib/python3.10/site-packages (from matplotlib!=3.6.1,>=3.1->seaborn->pytransit) (0.11.0)\n",
      "Requirement already satisfied: pillow>=6.2.0 in /apps/jupyter/6.5.2/lib/python3.10/site-packages (from matplotlib!=3.6.1,>=3.1->seaborn->pytransit) (9.3.0)\n",
      "Requirement already satisfied: pyparsing>=2.3.1 in /apps/jupyter/6.5.2/lib/python3.10/site-packages (from matplotlib!=3.6.1,>=3.1->seaborn->pytransit) (3.0.4)\n",
      "Requirement already satisfied: six>=1.5 in /apps/jupyter/6.5.2/lib/python3.10/site-packages (from python-dateutil>=2.8.1->pandas->pytransit) (1.16.0)\n",
      "Defaulting to user installation because normal site-packages is not writeable\n",
      "Requirement already satisfied: pyrr in /home/grobbins1/.local/lib/python3.10/site-packages (0.10.3)\n",
      "Requirement already satisfied: numpy in /apps/jupyter/6.5.2/lib/python3.10/site-packages (from pyrr) (1.23.5)\n",
      "Requirement already satisfied: multipledispatch in /home/grobbins1/.local/lib/python3.10/site-packages (from pyrr) (0.6.0)\n",
      "Requirement already satisfied: six in /apps/jupyter/6.5.2/lib/python3.10/site-packages (from multipledispatch->pyrr) (1.16.0)\n",
      "Defaulting to user installation because normal site-packages is not writeable\n",
      "Requirement already satisfied: emcee in /home/grobbins1/.local/lib/python3.10/site-packages (3.1.4)\n",
      "Requirement already satisfied: numpy in /apps/jupyter/6.5.2/lib/python3.10/site-packages (from emcee) (1.23.5)\n",
      "Defaulting to user installation because normal site-packages is not writeable\n",
      "Collecting celerite\n",
      "  Downloading celerite-0.4.2-cp310-cp310-manylinux_2_17_x86_64.manylinux2014_x86_64.whl (294 kB)\n",
      "\u001b[2K     \u001b[90m━━━━━━━━━━━━━━━━━━━━━━━━━━━━━━━━━━━━━━━\u001b[0m \u001b[32m294.9/294.9 kB\u001b[0m \u001b[31m7.0 MB/s\u001b[0m eta \u001b[36m0:00:00\u001b[0ma \u001b[36m0:00:01\u001b[0m\n",
      "\u001b[?25hRequirement already satisfied: numpy in /apps/jupyter/6.5.2/lib/python3.10/site-packages (from celerite) (1.23.5)\n",
      "Installing collected packages: celerite\n",
      "Successfully installed celerite-0.4.2\n",
      "Defaulting to user installation because normal site-packages is not writeable\n",
      "Requirement already satisfied: corner in /home/grobbins1/.local/lib/python3.10/site-packages (2.2.2)\n",
      "Requirement already satisfied: matplotlib>=2.1 in /home/grobbins1/.local/lib/python3.10/site-packages (from corner) (3.7.1)\n",
      "Requirement already satisfied: contourpy>=1.0.1 in /home/grobbins1/.local/lib/python3.10/site-packages (from matplotlib>=2.1->corner) (1.0.7)\n",
      "Requirement already satisfied: kiwisolver>=1.0.1 in /home/grobbins1/.local/lib/python3.10/site-packages (from matplotlib>=2.1->corner) (1.4.4)\n",
      "Requirement already satisfied: fonttools>=4.22.0 in /home/grobbins1/.local/lib/python3.10/site-packages (from matplotlib>=2.1->corner) (4.39.3)\n",
      "Requirement already satisfied: pyparsing>=2.3.1 in /apps/jupyter/6.5.2/lib/python3.10/site-packages (from matplotlib>=2.1->corner) (3.0.4)\n",
      "Requirement already satisfied: python-dateutil>=2.7 in /apps/jupyter/6.5.2/lib/python3.10/site-packages (from matplotlib>=2.1->corner) (2.8.2)\n",
      "Requirement already satisfied: numpy>=1.20 in /apps/jupyter/6.5.2/lib/python3.10/site-packages (from matplotlib>=2.1->corner) (1.23.5)\n",
      "Requirement already satisfied: cycler>=0.10 in /home/grobbins1/.local/lib/python3.10/site-packages (from matplotlib>=2.1->corner) (0.11.0)\n",
      "Requirement already satisfied: pillow>=6.2.0 in /apps/jupyter/6.5.2/lib/python3.10/site-packages (from matplotlib>=2.1->corner) (9.3.0)\n",
      "Requirement already satisfied: packaging>=20.0 in /apps/jupyter/6.5.2/lib/python3.10/site-packages (from matplotlib>=2.1->corner) (21.3)\n",
      "Requirement already satisfied: six>=1.5 in /apps/jupyter/6.5.2/lib/python3.10/site-packages (from python-dateutil>=2.7->matplotlib>=2.1->corner) (1.16.0)\n"
     ]
    }
   ],
   "source": [
    "#Run me beforehand, only necessary once\n",
    "!pip install pytransit\n",
    "!pip install pyrr\n",
    "!pip install emcee\n",
    "!pip install celerite\n",
    "!pip install corner\n"
   ]
  },
  {
   "cell_type": "code",
   "execution_count": 3,
   "metadata": {
    "id": "jk9erJAu_gtt"
   },
   "outputs": [
    {
     "name": "stderr",
     "output_type": "stream",
     "text": [
      "/apps/jupyter/6.5.2/lib/python3.10/site-packages/tqdm/auto.py:22: TqdmWarning: IProgress not found. Please update jupyter and ipywidgets. See https://ipywidgets.readthedocs.io/en/stable/user_install.html\n",
      "  from .autonotebook import tqdm as notebook_tqdm\n"
     ]
    }
   ],
   "source": [
    "import numpy as np\n",
    "import matplotlib.pyplot as plt\n",
    "from pytransit import QuadraticModel\n",
    "\n",
    "s_per_day=24*3600.\n",
    "M_sun=1.989e33 #g\n",
    "R_sun=6.955e10 #cm\n",
    "G=6.673e-8 #cm^3/g*s^2"
   ]
  },
  {
   "cell_type": "code",
   "execution_count": 4,
   "metadata": {
    "id": "mkKXfQ2m-_jv"
   },
   "outputs": [],
   "source": [
    "period=4.931 #insert your period here in days\n",
    "\n",
    "##### DO NOT ALTER THIS. This snippet of code calculates the time array you should use to generate your lightcurves, \n",
    "#both from scratch and using exisiting python packages\n",
    "M_star_low=0.1\n",
    "M_star_high=10.0\n",
    "\n",
    "R_high=((M_star_high)**0.57)*R_sun #MR scaling relations for MS stars\n",
    "R_low=((M_star_low)**0.8)*R_sun\n",
    "\n",
    "a_high=(((period*s_per_day)**2.0*G*M_star_high*M_sun)/(4*np.pi**2.0))**(1.0/3.0)\n",
    "a_low=(((period*s_per_day)**2.0*G*M_star_low*M_sun)/(4*np.pi**2.0))**(1.0/3.0)\n",
    "\n",
    "duration_high=period*s_per_day/np.pi*(R_high/a_high)\n",
    "duration_low=period*s_per_day/np.pi*(R_low/a_low)\n",
    "\n",
    "#Calculating number of 1 min exoposure needed for a 3 hour duration window, \n",
    "#if eccentricity is as high as 0.9 and planet transits at apastron\n",
    "n_high=3*duration_high*(np.sqrt(1-0.9**2)/(1-0.9))/60.\n",
    "n_low=3*duration_low*(np.sqrt(1-0.9**2)/(1-0.9))/60.\n",
    "\n",
    "single_transit_time_array=(np.arange(0,n_high)-n_high/2.0)/(60*24) #Short time array in days, centered on a single transit event\n",
    "\n",
    "#Use the time array below to eventually produce the time array for your lightcurve\n",
    "time_array=np.concatenate(((np.arange(0,n_high)-n_high/2.0)/(60*24),(np.arange(0,n_high)-n_high/2.0)/(60*24.0)+period)) \n",
    "time_array=np.concatenate((time_array,(np.arange(0,n_high)-n_high/2.0)/(60*24)+period*2.0)) #Long time array in days, which will include three transit events"
   ]
  },
  {
   "cell_type": "code",
   "execution_count": 5,
   "metadata": {
    "colab": {
     "base_uri": "https://localhost:8080/",
     "height": 448
    },
    "id": "3ayE0bE0-_jw",
    "outputId": "7c59a4c1-f411-4dff-8ae5-d45aac14f3b2"
   },
   "outputs": [
    {
     "data": {
      "text/plain": [
       "[<matplotlib.lines.Line2D at 0x2b0a39f2b9d0>]"
      ]
     },
     "execution_count": 5,
     "metadata": {},
     "output_type": "execute_result"
    },
    {
     "data": {
      "image/png": "[encoded data removed]",
      "text/plain": [
       "<Figure size 432x288 with 1 Axes>"
      ]
     },
     "metadata": {
      "needs_background": "light"
     },
     "output_type": "display_data"
    }
   ],
   "source": [
    "plt.plot(single_transit_time_array)"
   ]
  },
  {
   "cell_type": "code",
   "execution_count": 6,
   "metadata": {
    "id": "BWf-Vzoy-_jx"
   },
   "outputs": [],
   "source": [
    "#Generate a transit lightcurve using PyTransit. Transit parameters are specified below\n",
    "#This generates both a single transit lightcurve, using the shorter time array, and a lightcurve with three transits, using the longer time array\n",
    "\n",
    "tm = QuadraticModel()\n",
    "tm.set_data(single_transit_time_array) #time needs to be specified in days\n",
    "\n",
    "t0=0\n",
    "i=np.pi*89.57/180 #90 degrees is perfectly edge-on\n",
    "aonr=a_high/R_high\n",
    "k= .05#R_p/R_star\n",
    "period=period\n",
    "\n",
    "single_transit_lightcurve=tm.evaluate(k=k, ldc=[0.0, 0.0], t0=0.0, p=period, a=aonr, i=i,e=0.8,w=62.82*np.pi/180)\n",
    "\n",
    "tm.set_data(time_array) #time needs to be specified in days\n",
    "three_transit_lightcurve=tm.evaluate(k=k, ldc=[0.0, 0.0], t0=0.0, p=period, a=aonr, i=i,e=0.8,w=62.82*np.pi/180)"
   ]
  },
  {
   "cell_type": "code",
   "execution_count": 12,
   "metadata": {
    "colab": {
     "base_uri": "https://localhost:8080/",
     "height": 881
    },
    "id": "05wcRX4r-_jx",
    "outputId": "4629f711-f3b6-45ea-8171-f01cf56ed020"
   },
   "outputs": [
    {
     "data": {
      "image/png": "[encoded data removed]",
      "text/plain": [
       "<Figure size 432x288 with 1 Axes>"
      ]
     },
     "metadata": {
      "needs_background": "light"
     },
     "output_type": "display_data"
    },
    {
     "data": {
      "image/png": "[encoded data removed]",
      "text/plain": [
       "<Figure size 432x288 with 1 Axes>"
      ]
     },
     "metadata": {
      "needs_background": "light"
     },
     "output_type": "display_data"
    }
   ],
   "source": [
    "plt.plot(single_transit_time_array*24,single_transit_lightcurve)\n",
    "plt.xlabel('Time [Hours]')\n",
    "plt.ylabel('Flux')\n",
    "plt.xlim(-3,3)\n",
    "plt.show()\n",
    "plt.plot(time_array,three_transit_lightcurve)\n",
    "plt.xlabel('Time [Days]')\n",
    "plt.ylabel('Flux')\n",
    "plt.show()\n"
   ]
  },
  {
   "cell_type": "code",
   "execution_count": null,
   "metadata": {
    "id": "XjbQCeGG-_jy"
   },
   "outputs": [],
   "source": [
    "#Code for writing your transit lightcurve to a CSV file\n",
    "\n",
    "import csv \n",
    "from numpy import savetxt\n",
    "from numpy import loadtxt\n",
    "\n",
    "test_time_array=time_array     #Time array including three transits\n",
    "\n",
    "noise=np.zeros(len(time_array))  #Replace with an array of actual Gaussian noise\n",
    "test_flux_array=three_transit_lightcurve+noise #Flux array from PyTransit, including three transits, with noise on top\n",
    "\n",
    "test_error_array=np.zeros(len(time_array)) \n",
    "test_error_array.fill(0.0) #Replace 0.0 with your random error value\n",
    "    \n",
    "test_rows=np.transpose([test_time_array,test_flux_array,test_error_array])\n",
    "\n",
    "#The line below writes your time, flux, and error arrays to a CSV file\n",
    "#EDIT THE STELLAR MASS AND STELLAR RADIUS IN THE FILENAME TO YOUR OWN VALUES\n",
    "savetxt('stellar_mass_1.0_stellar_radius_1.0.csv', test_rows, delimiter=',') #replace stellar mass and radius in filename with your values"
   ]
  },
  {
   "cell_type": "code",
   "execution_count": null,
   "metadata": {
    "colab": {
     "base_uri": "https://localhost:8080/"
    },
    "id": "hIz8DchmUSx9",
    "outputId": "46bee7ea-ad8f-4216-f646-5ee3a8ef8ad8"
   },
   "outputs": [
    {
     "name": "stdout",
     "output_type": "stream",
     "text": [
      "(52647, 3)\n"
     ]
    }
   ],
   "source": [
    "#Reading in the data again from the array we just wrote, to confirm it wrote properly\n",
    "data = loadtxt('stellar_mass_1.0_stellar_radius_1.0.csv', delimiter=',')\n",
    "print(np.shape(data))\n",
    "read_in_time=data[:,0]\n",
    "read_in_flux=data[:,1]\n",
    "read_in_error=data[:,2]"
   ]
  },
  {
   "cell_type": "code",
   "execution_count": null,
   "metadata": {
    "colab": {
     "base_uri": "https://localhost:8080/",
     "height": 282
    },
    "id": "-jSGLbMHfJz2",
    "outputId": "32c40fbe-704f-43de-8431-e953d7dcac63"
   },
   "outputs": [
    {
     "data": {
      "text/plain": [
       "[<matplotlib.lines.Line2D at 0x7f77c416c8d0>]"
      ]
     },
     "execution_count": 19,
     "metadata": {
      "tags": []
     },
     "output_type": "execute_result"
    },
    {
     "data": {
      "image/png": "[encoded data removed]",
      "text/plain": [
       "<Figure size 432x288 with 1 Axes>"
      ]
     },
     "metadata": {
      "needs_background": "light",
      "tags": []
     },
     "output_type": "display_data"
    }
   ],
   "source": [
    "plt.plot(read_in_time,read_in_flux)"
   ]
  },
  {
   "cell_type": "code",
   "execution_count": null,
   "metadata": {
    "id": "wMODWgZ1fPSQ"
   },
   "outputs": [],
   "source": []
  }
 ],
 "metadata": {
  "colab": {
   "provenance": []
  },
  "kernelspec": {
   "display_name": "Python 3 (ipykernel)",
   "language": "python",
   "name": "python3"
  },
  "language_info": {
   "codemirror_mode": {
    "name": "ipython",
    "version": 3
   },
   "file_extension": ".py",
   "mimetype": "text/x-python",
   "name": "python",
   "nbconvert_exporter": "python",
   "pygments_lexer": "ipython3",
   "version": "3.10.4"
  }
 },
 "nbformat": 4,
 "nbformat_minor": 4
}
